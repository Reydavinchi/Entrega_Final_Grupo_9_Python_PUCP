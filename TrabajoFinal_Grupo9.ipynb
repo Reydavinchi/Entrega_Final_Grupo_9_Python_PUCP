{
 "cells": [
  {
   "cell_type": "markdown",
   "id": "OQSezRkDbJt7",
   "metadata": {
    "id": "OQSezRkDbJt7"
   },
   "source": [
    "# Tarea Final del Curso\n",
    "**Introducción a la Ciencia de Datos con Python**"
   ]
  },
  {
   "cell_type": "markdown",
   "id": "XGKFK_A8bJt_",
   "metadata": {
    "id": "XGKFK_A8bJt_"
   },
   "source": [
    "Fecha de entrega: Domingo 10 de agosto, 2025, 11:59pm\n",
    "\n",
    "**Instrucciones Generales:**\n",
    "\n",
    "- Esta es la entrega final y debe realizarse de manera grupal.\n",
    "- Es importante consignar en el correo de entrega, tanto los nombres y codigo de los integrantes del grupo.\n",
    "- Se considera un punto adicional a aquellos grupos que realizen la entrega por GITHUB, para ello deben ponerlo dentro de la carpeta Entregas_1, y nombre de archivo debe tener el formato: TrabajoFinal_GrupoX.ipynb\n",
    "- Asegúrate de seguir las buenas prácticas para nombrar variables y comentar tu código.\n",
    "- Utiliza las librerías vistas en clase: `numpy`, `pandas` y `matplotlib.pyplot`.\n",
    "- Responde a las preguntas teóricas o de interpretación en las celdas de Markdown designadas."
   ]
  },
  {
   "cell_type": "markdown",
   "id": "-knDLkMsbJuA",
   "metadata": {
    "id": "-knDLkMsbJuA"
   },
   "source": [
    "## Sección 1: NumPy - Manipulación Avanzada de Arrays"
   ]
  },
  {
   "cell_type": "markdown",
   "id": "y5tLDLYlbJuA",
   "metadata": {
    "id": "y5tLDLYlbJuA"
   },
   "source": [
    "**1.1.** Crea un array de NumPy llamado `vector_base` que contenga una secuencia de números desde 10 hasta 115 (inclusive), con un paso de 3 entre cada número."
   ]
  },
  {
   "cell_type": "code",
   "execution_count": 12,
   "id": "wvj9SXYtbr3v",
   "metadata": {
    "id": "wvj9SXYtbr3v"
   },
   "outputs": [
    {
     "name": "stdout",
     "output_type": "stream",
     "text": [
      "Defaulting to user installation because normal site-packages is not writeable\n",
      "Requirement already satisfied: numpy in c:\\users\\alere\\appdata\\local\\packages\\pythonsoftwarefoundation.python.3.12_qbz5n2kfra8p0\\localcache\\local-packages\\python312\\site-packages (2.3.2)\n",
      "Note: you may need to restart the kernel to use updated packages.\n",
      "vector_base: [ 10  13  16  19  22  25  28  31  34  37  40  43  46  49  52  55  58  61\n",
      "  64  67  70  73  76  79  82  85  88  91  94  97 100 103 106 109 112 115] \n",
      "Tamaño: 36\n"
     ]
    },
    {
     "name": "stderr",
     "output_type": "stream",
     "text": [
      "\n",
      "[notice] A new release of pip is available: 25.0.1 -> 25.2\n",
      "[notice] To update, run: C:\\Users\\alere\\AppData\\Local\\Microsoft\\WindowsApps\\PythonSoftwareFoundation.Python.3.12_qbz5n2kfra8p0\\python.exe -m pip install --upgrade pip\n"
     ]
    }
   ],
   "source": [
    "%pip install numpy\n",
    "# Importación de la librería NumPy para manejo eficiente de arreglos numéricos\n",
    "import numpy as np\n",
    "# 1.1 Creación del vector base\n",
    "# Se utiliza np.arange para generar una secuencia numérica desde 10 hasta 115\n",
    "# con paso de 3 unidades. El límite superior es inclusivo ya que se especifica 116.\n",
    "# Esto produce un array unidimensional de enteros equiespaciados.\n",
    "vector_base = np.arange(10, 116, 3)\n",
    "print(\"vector_base:\", vector_base, \"\\nTamaño:\", vector_base.size)"
   ]
  },
  {
   "cell_type": "markdown",
   "id": "983F8uePbJuB",
   "metadata": {
    "id": "983F8uePbJuB"
   },
   "source": [
    "**1.2.** A partir del `vector_base` anterior, crea una matriz de 5x7 llamada `matriz_A`."
   ]
  },
  {
   "cell_type": "code",
   "execution_count": 13,
   "id": "dmOA_SNgbJuC",
   "metadata": {
    "id": "dmOA_SNgbJuC"
   },
   "outputs": [
    {
     "name": "stdout",
     "output_type": "stream",
     "text": [
      "\n",
      "matriz_A (5x7):\n",
      " [[ 10  13  16  19  22  25  28]\n",
      " [ 31  34  37  40  43  46  49]\n",
      " [ 52  55  58  61  64  67  70]\n",
      " [ 73  76  79  82  85  88  91]\n",
      " [ 94  97 100 103 106 109 112]]\n"
     ]
    }
   ],
   "source": [
    "# 1.2 Construcción de la matriz_A\n",
    "# El reshape se aplica a los primeros 35 elementos del vector_base\n",
    "# debido a que una matriz de 5x7 requiere exactamente 35 elementos.\n",
    "# Se asegura la dimensionalidad solicitada para operaciones posteriores.\n",
    "matriz_A = vector_base[:35].reshape(5, 7)\n",
    "print(\"\\nmatriz_A (5x7):\\n\", matriz_A)"
   ]
  },
  {
   "cell_type": "markdown",
   "id": "QoWq-H84bJuC",
   "metadata": {
    "id": "QoWq-H84bJuC"
   },
   "source": [
    "**2.1.** Crea una segunda matriz de 5x7 llamada `matriz_B` que contenga números enteros aleatorios entre 1 y 10.\n",
    "\n",
    "**2.2.** Realiza una multiplicación elemento por elemento (element-wise) entre `matriz_A` y `matriz_B` y almacena el resultado en `matriz_C`."
   ]
  },
  {
   "cell_type": "code",
   "execution_count": 14,
   "id": "DDZDd-cfbJuD",
   "metadata": {
    "id": "DDZDd-cfbJuD"
   },
   "outputs": [
    {
     "name": "stdout",
     "output_type": "stream",
     "text": [
      "\n",
      "matriz_B (5x7):\n",
      " [[ 1  8  7  5  5  9  1]\n",
      " [ 7  3  1  6 10  8  8]\n",
      " [ 8  8  6  2  9  5  6]\n",
      " [ 4  2 10  8  7  5  9]\n",
      " [ 6  5  5  3  1  6  9]]\n",
      "\n",
      "matriz_C = matriz_A * matriz_B:\n",
      " [[  10  104  112   95  110  225   28]\n",
      " [ 217  102   37  240  430  368  392]\n",
      " [ 416  440  348  122  576  335  420]\n",
      " [ 292  152  790  656  595  440  819]\n",
      " [ 564  485  500  309  106  654 1008]]\n"
     ]
    }
   ],
   "source": [
    "# 2.1 Se utiliza un generador aleatorio con semilla fija (42) para garantizar\n",
    "# reproducibilidad de resultados. La matriz contiene enteros aleatorios\n",
    "# en el rango [1, 10], con las mismas dimensiones que matriz_A (5x7).\n",
    "rng = np.random.default_rng(42)  # semilla para reproducibilidad\n",
    "matriz_B = rng.integers(1, 11, size=(5, 7))\n",
    "print(\"\\nmatriz_B (5x7):\\n\", matriz_B)\n",
    "\n",
    "# 2.2 La operación '*' entre arrays de igual dimensión en NumPy realiza\n",
    "# un producto elemento por elemento (Hadamard product).\n",
    "# El resultado se almacena en matriz_C, preservando dimensiones (5x7).\n",
    "matriz_C = matriz_A * matriz_B\n",
    "print(\"\\nmatriz_C = matriz_A * matriz_B:\\n\", matriz_C)"
   ]
  },
  {
   "cell_type": "markdown",
   "id": "HhrCyWatbJuD",
   "metadata": {
    "id": "HhrCyWatbJuD"
   },
   "source": [
    "**3.1.** Utilizando slicing, selecciona una submatriz de 2x2 de la esquina inferior derecha de `matriz_C`.\n",
    "\n",
    "**3.2.** Calcula el promedio de esta submatriz."
   ]
  },
  {
   "cell_type": "code",
   "execution_count": 17,
   "id": "dIlRtUE3bJuD",
   "metadata": {
    "id": "dIlRtUE3bJuD"
   },
   "outputs": [
    {
     "name": "stdout",
     "output_type": "stream",
     "text": [
      "\n",
      "Submatriz 2x2 (esquina inferior derecha):\n",
      " [[ 440  819]\n",
      " [ 654 1008]]\n",
      "\n",
      "Promedio de la submatriz 2x2: 730.25\n"
     ]
    }
   ],
   "source": [
    "# 3.1 Se utiliza slicing negativo para seleccionar las dos últimas filas\n",
    "# y las dos últimas columnas de matriz_C, obteniendo la esquina inferior derecha.\n",
    "submatriz = matriz_C[-2:, -2:]\n",
    "print(\"\\nSubmatriz 2x2 (esquina inferior derecha):\\n\", submatriz)\n",
    "\n",
    "# 3.2 Cálculo del promedio de la submatriz\n",
    "# Se aplica el método .mean() de NumPy para obtener la media aritmética\n",
    "# de todos los elementos de la submatriz extraída.\n",
    "promedio_submatriz = submatriz.mean()\n",
    "print(\"\\nPromedio de la submatriz 2x2:\", promedio_submatriz)"
   ]
  },
  {
   "cell_type": "markdown",
   "id": "gO0WijUnbJuE",
   "metadata": {
    "id": "gO0WijUnbJuE"
   },
   "source": [
    "## Sección 2: Pandas - Análisis Exploratorio de Datos"
   ]
  },
  {
   "cell_type": "markdown",
   "id": "SBXhc1V8bJuE",
   "metadata": {
    "id": "SBXhc1V8bJuE"
   },
   "source": [
    "Para esta sección, trabajaremos con un conjunto de datos ficticio sobre el desarrollo humano. **Ejecuta la siguiente celda para crear el DataFrame.**"
   ]
  },
  {
   "cell_type": "code",
   "execution_count": 1,
   "id": "iVR3JluqbJuE",
   "metadata": {
    "id": "iVR3JluqbJuE"
   },
   "outputs": [],
   "source": [
    "import pandas as pd\n",
    "import numpy as np\n",
    "\n",
    "data = {\n",
    "    'Pais': ['Perú', 'Argentina', 'Chile', 'Colombia', 'Brasil', 'México', 'Uruguay', 'España', 'Canadá', 'Japón'],\n",
    "    'Continente': ['Sudamérica', 'Sudamérica', 'Sudamérica', 'Sudamérica', 'Sudamérica', 'Norteamérica', 'Sudamérica', 'Europa', 'Norteamérica', 'Asia'],\n",
    "    'Poblacion_millones': [33.0, 45.2, 19.5, 51.0, 212.6, 128.9, 3.5, 47.4, 38.0, 125.8],\n",
    "    'PBI_per_capita': [7020, 9912, 15000, 6500, 8717, 9863, 16190, 29600, 46194, 40700],\n",
    "    'Esperanza_de_vida': [76.5, 76.7, 80.5, 77.3, 75.9, 75.0, 77.9, 83.6, 82.3, 84.6],\n",
    "    'Indice_Gini': [41.5, 42.9, 44.4, 51.3, 53.9, 45.4, 39.7, 34.7, 33.3, 32.9],\n",
    "    'Tasa_Alfabetizacion': [94.4, 99.0, 99.4, 95.1, 93.2, 95.4, np.nan, 98.4, 99.0, 99.0],\n",
    "    'Crecimiento_Anual_PBI': [1.1, -2.0, 2.5, 3.0, 1.4, 2.1, 2.0, 2.5, 1.9, 0.8]\n",
    "}\n",
    "\n",
    "df_desarrollo = pd.DataFrame(data)"
   ]
  },
  {
   "cell_type": "markdown",
   "id": "CFYuSgcfbJuF",
   "metadata": {
    "id": "CFYuSgcfbJuF"
   },
   "source": [
    "**4.1.** Muestra las primeras 5 filas del DataFrame `df_desarrollo`.\n",
    "\n",
    "**4.2.** Muestra un resumen general del DataFrame utilizando `.info()`."
   ]
  },
  {
   "cell_type": "code",
   "execution_count": 2,
   "id": "c6e957e8",
   "metadata": {},
   "outputs": [
    {
     "data": {
      "text/html": [
       "<div>\n",
       "<style scoped>\n",
       "    .dataframe tbody tr th:only-of-type {\n",
       "        vertical-align: middle;\n",
       "    }\n",
       "\n",
       "    .dataframe tbody tr th {\n",
       "        vertical-align: top;\n",
       "    }\n",
       "\n",
       "    .dataframe thead th {\n",
       "        text-align: right;\n",
       "    }\n",
       "</style>\n",
       "<table border=\"1\" class=\"dataframe\">\n",
       "  <thead>\n",
       "    <tr style=\"text-align: right;\">\n",
       "      <th></th>\n",
       "      <th>Pais</th>\n",
       "      <th>Continente</th>\n",
       "      <th>Poblacion_millones</th>\n",
       "      <th>PBI_per_capita</th>\n",
       "      <th>Esperanza_de_vida</th>\n",
       "      <th>Indice_Gini</th>\n",
       "      <th>Tasa_Alfabetizacion</th>\n",
       "      <th>Crecimiento_Anual_PBI</th>\n",
       "    </tr>\n",
       "  </thead>\n",
       "  <tbody>\n",
       "    <tr>\n",
       "      <th>0</th>\n",
       "      <td>Perú</td>\n",
       "      <td>Sudamérica</td>\n",
       "      <td>33.0</td>\n",
       "      <td>7020</td>\n",
       "      <td>76.5</td>\n",
       "      <td>41.5</td>\n",
       "      <td>94.4</td>\n",
       "      <td>1.1</td>\n",
       "    </tr>\n",
       "    <tr>\n",
       "      <th>1</th>\n",
       "      <td>Argentina</td>\n",
       "      <td>Sudamérica</td>\n",
       "      <td>45.2</td>\n",
       "      <td>9912</td>\n",
       "      <td>76.7</td>\n",
       "      <td>42.9</td>\n",
       "      <td>99.0</td>\n",
       "      <td>-2.0</td>\n",
       "    </tr>\n",
       "    <tr>\n",
       "      <th>2</th>\n",
       "      <td>Chile</td>\n",
       "      <td>Sudamérica</td>\n",
       "      <td>19.5</td>\n",
       "      <td>15000</td>\n",
       "      <td>80.5</td>\n",
       "      <td>44.4</td>\n",
       "      <td>99.4</td>\n",
       "      <td>2.5</td>\n",
       "    </tr>\n",
       "    <tr>\n",
       "      <th>3</th>\n",
       "      <td>Colombia</td>\n",
       "      <td>Sudamérica</td>\n",
       "      <td>51.0</td>\n",
       "      <td>6500</td>\n",
       "      <td>77.3</td>\n",
       "      <td>51.3</td>\n",
       "      <td>95.1</td>\n",
       "      <td>3.0</td>\n",
       "    </tr>\n",
       "    <tr>\n",
       "      <th>4</th>\n",
       "      <td>Brasil</td>\n",
       "      <td>Sudamérica</td>\n",
       "      <td>212.6</td>\n",
       "      <td>8717</td>\n",
       "      <td>75.9</td>\n",
       "      <td>53.9</td>\n",
       "      <td>93.2</td>\n",
       "      <td>1.4</td>\n",
       "    </tr>\n",
       "  </tbody>\n",
       "</table>\n",
       "</div>"
      ],
      "text/plain": [
       "        Pais  Continente  Poblacion_millones  PBI_per_capita  \\\n",
       "0       Perú  Sudamérica                33.0            7020   \n",
       "1  Argentina  Sudamérica                45.2            9912   \n",
       "2      Chile  Sudamérica                19.5           15000   \n",
       "3   Colombia  Sudamérica                51.0            6500   \n",
       "4     Brasil  Sudamérica               212.6            8717   \n",
       "\n",
       "   Esperanza_de_vida  Indice_Gini  Tasa_Alfabetizacion  Crecimiento_Anual_PBI  \n",
       "0               76.5         41.5                 94.4                    1.1  \n",
       "1               76.7         42.9                 99.0                   -2.0  \n",
       "2               80.5         44.4                 99.4                    2.5  \n",
       "3               77.3         51.3                 95.1                    3.0  \n",
       "4               75.9         53.9                 93.2                    1.4  "
      ]
     },
     "execution_count": 2,
     "metadata": {},
     "output_type": "execute_result"
    }
   ],
   "source": [
    "df_desarrollo.head()"
   ]
  },
  {
   "cell_type": "code",
   "execution_count": null,
   "id": "fiJXvGwgbJuF",
   "metadata": {
    "id": "fiJXvGwgbJuF"
   },
   "outputs": [
    {
     "name": "stdout",
     "output_type": "stream",
     "text": [
      "<class 'pandas.core.frame.DataFrame'>\n",
      "RangeIndex: 10 entries, 0 to 9\n",
      "Data columns (total 8 columns):\n",
      " #   Column                 Non-Null Count  Dtype  \n",
      "---  ------                 --------------  -----  \n",
      " 0   Pais                   10 non-null     object \n",
      " 1   Continente             10 non-null     object \n",
      " 2   Poblacion_millones     10 non-null     float64\n",
      " 3   PBI_per_capita         10 non-null     int64  \n",
      " 4   Esperanza_de_vida      10 non-null     float64\n",
      " 5   Indice_Gini            10 non-null     float64\n",
      " 6   Tasa_Alfabetizacion    9 non-null      float64\n",
      " 7   Crecimiento_Anual_PBI  10 non-null     float64\n",
      "dtypes: float64(5), int64(1), object(2)\n",
      "memory usage: 772.0+ bytes\n"
     ]
    }
   ],
   "source": [
    "\n",
    "df_desarrollo.info()\n"
   ]
  },
  {
   "cell_type": "markdown",
   "id": "mlZeIBfFbJuG",
   "metadata": {
    "id": "mlZeIBfFbJuG"
   },
   "source": [
    "**5.** Hemos notado que hay un valor faltante (`NaN`) en la columna `Tasa_Alfabetizacion`. Imputa este valor faltante utilizando la **mediana** de esa misma columna."
   ]
  },
  {
   "cell_type": "code",
   "execution_count": 5,
   "id": "JPWPLHX8bJuG",
   "metadata": {
    "id": "JPWPLHX8bJuG"
   },
   "outputs": [],
   "source": [
    "mediana_alfabetizacion = df_desarrollo['Tasa_Alfabetizacion'].median()\n",
    "df_desarrollo['Tasa_Alfabetizacion'] = df_desarrollo['Tasa_Alfabetizacion'].fillna(mediana_alfabetizacion)"
   ]
  },
  {
   "cell_type": "markdown",
   "id": "qo0004XubJuG",
   "metadata": {
    "id": "qo0004XubJuG"
   },
   "source": [
    "**6.1.** Crea una nueva columna llamada `PBI_Total_billones` que sea el resultado de multiplicar `PBI_per_capita` por `Poblacion_millones` y dividirlo entre 1000.\n",
    "\n",
    "**6.2.** Muestra el DataFrame con la nueva columna."
   ]
  },
  {
   "cell_type": "code",
   "execution_count": 6,
   "id": "5b09ae58",
   "metadata": {},
   "outputs": [],
   "source": [
    "df_desarrollo['PBI_Total_billones'] = (df_desarrollo['PBI_per_capita'] * df_desarrollo['Poblacion_millones']) / 1000\n"
   ]
  },
  {
   "cell_type": "code",
   "execution_count": 7,
   "id": "ZVX-OPAybJuG",
   "metadata": {
    "id": "ZVX-OPAybJuG"
   },
   "outputs": [
    {
     "data": {
      "text/html": [
       "<div>\n",
       "<style scoped>\n",
       "    .dataframe tbody tr th:only-of-type {\n",
       "        vertical-align: middle;\n",
       "    }\n",
       "\n",
       "    .dataframe tbody tr th {\n",
       "        vertical-align: top;\n",
       "    }\n",
       "\n",
       "    .dataframe thead th {\n",
       "        text-align: right;\n",
       "    }\n",
       "</style>\n",
       "<table border=\"1\" class=\"dataframe\">\n",
       "  <thead>\n",
       "    <tr style=\"text-align: right;\">\n",
       "      <th></th>\n",
       "      <th>Pais</th>\n",
       "      <th>Continente</th>\n",
       "      <th>Poblacion_millones</th>\n",
       "      <th>PBI_per_capita</th>\n",
       "      <th>Esperanza_de_vida</th>\n",
       "      <th>Indice_Gini</th>\n",
       "      <th>Tasa_Alfabetizacion</th>\n",
       "      <th>Crecimiento_Anual_PBI</th>\n",
       "      <th>PBI_Total_billones</th>\n",
       "    </tr>\n",
       "  </thead>\n",
       "  <tbody>\n",
       "    <tr>\n",
       "      <th>0</th>\n",
       "      <td>Perú</td>\n",
       "      <td>Sudamérica</td>\n",
       "      <td>33.0</td>\n",
       "      <td>7020</td>\n",
       "      <td>76.5</td>\n",
       "      <td>41.5</td>\n",
       "      <td>94.4</td>\n",
       "      <td>1.1</td>\n",
       "      <td>231.6600</td>\n",
       "    </tr>\n",
       "    <tr>\n",
       "      <th>1</th>\n",
       "      <td>Argentina</td>\n",
       "      <td>Sudamérica</td>\n",
       "      <td>45.2</td>\n",
       "      <td>9912</td>\n",
       "      <td>76.7</td>\n",
       "      <td>42.9</td>\n",
       "      <td>99.0</td>\n",
       "      <td>-2.0</td>\n",
       "      <td>448.0224</td>\n",
       "    </tr>\n",
       "    <tr>\n",
       "      <th>2</th>\n",
       "      <td>Chile</td>\n",
       "      <td>Sudamérica</td>\n",
       "      <td>19.5</td>\n",
       "      <td>15000</td>\n",
       "      <td>80.5</td>\n",
       "      <td>44.4</td>\n",
       "      <td>99.4</td>\n",
       "      <td>2.5</td>\n",
       "      <td>292.5000</td>\n",
       "    </tr>\n",
       "    <tr>\n",
       "      <th>3</th>\n",
       "      <td>Colombia</td>\n",
       "      <td>Sudamérica</td>\n",
       "      <td>51.0</td>\n",
       "      <td>6500</td>\n",
       "      <td>77.3</td>\n",
       "      <td>51.3</td>\n",
       "      <td>95.1</td>\n",
       "      <td>3.0</td>\n",
       "      <td>331.5000</td>\n",
       "    </tr>\n",
       "    <tr>\n",
       "      <th>4</th>\n",
       "      <td>Brasil</td>\n",
       "      <td>Sudamérica</td>\n",
       "      <td>212.6</td>\n",
       "      <td>8717</td>\n",
       "      <td>75.9</td>\n",
       "      <td>53.9</td>\n",
       "      <td>93.2</td>\n",
       "      <td>1.4</td>\n",
       "      <td>1853.2342</td>\n",
       "    </tr>\n",
       "  </tbody>\n",
       "</table>\n",
       "</div>"
      ],
      "text/plain": [
       "        Pais  Continente  Poblacion_millones  PBI_per_capita  \\\n",
       "0       Perú  Sudamérica                33.0            7020   \n",
       "1  Argentina  Sudamérica                45.2            9912   \n",
       "2      Chile  Sudamérica                19.5           15000   \n",
       "3   Colombia  Sudamérica                51.0            6500   \n",
       "4     Brasil  Sudamérica               212.6            8717   \n",
       "\n",
       "   Esperanza_de_vida  Indice_Gini  Tasa_Alfabetizacion  Crecimiento_Anual_PBI  \\\n",
       "0               76.5         41.5                 94.4                    1.1   \n",
       "1               76.7         42.9                 99.0                   -2.0   \n",
       "2               80.5         44.4                 99.4                    2.5   \n",
       "3               77.3         51.3                 95.1                    3.0   \n",
       "4               75.9         53.9                 93.2                    1.4   \n",
       "\n",
       "   PBI_Total_billones  \n",
       "0            231.6600  \n",
       "1            448.0224  \n",
       "2            292.5000  \n",
       "3            331.5000  \n",
       "4           1853.2342  "
      ]
     },
     "execution_count": 7,
     "metadata": {},
     "output_type": "execute_result"
    }
   ],
   "source": [
    "df_desarrollo.head()"
   ]
  },
  {
   "cell_type": "markdown",
   "id": "t8u-hYwUbJuG",
   "metadata": {
    "id": "t8u-hYwUbJuG"
   },
   "source": [
    "**7.** Crea una nueva columna condicional `Categoria_Desarrollo`. Clasifica a los países según las siguientes reglas:\n",
    "- 'Alto': Si `Esperanza_de_vida` > 80 Y `PBI_per_capita` > 25000.\n",
    "- 'Medio-Alto': Si `Esperanza_de_vida` > 76 Y `PBI_per_capita` > 8000.\n",
    "- 'Medio': Para todos los demás casos."
   ]
  },
  {
   "cell_type": "code",
   "execution_count": 8,
   "id": "VXJB6DAubJuG",
   "metadata": {
    "id": "VXJB6DAubJuG"
   },
   "outputs": [],
   "source": [
    "import numpy as np\n",
    "\n",
    "df_desarrollo['Categoria_Desarrollo'] = np.where(\n",
    "    (df_desarrollo['Esperanza_de_vida'] > 80) & (df_desarrollo['PBI_per_capita'] > 25000), 'Alto',\n",
    "    np.where(\n",
    "        (df_desarrollo['Esperanza_de_vida'] > 76) & (df_desarrollo['PBI_per_capita'] > 8000), 'Medio-Alto',\n",
    "        'Medio'\n",
    "    )\n",
    ")"
   ]
  },
  {
   "cell_type": "markdown",
   "id": "2CjwamlPbJuG",
   "metadata": {
    "id": "2CjwamlPbJuG"
   },
   "source": [
    "**8.1.** Filtra el DataFrame para encontrar los países de 'Sudamérica' con un `Indice_Gini` menor a 45.\n",
    "\n",
    "**8.2.** Ordena el resultado del filtro anterior por `PBI_per_capita` de forma descendente."
   ]
  },
  {
   "cell_type": "code",
   "execution_count": 9,
   "id": "90e31f78",
   "metadata": {},
   "outputs": [
    {
     "data": {
      "text/html": [
       "<div>\n",
       "<style scoped>\n",
       "    .dataframe tbody tr th:only-of-type {\n",
       "        vertical-align: middle;\n",
       "    }\n",
       "\n",
       "    .dataframe tbody tr th {\n",
       "        vertical-align: top;\n",
       "    }\n",
       "\n",
       "    .dataframe thead th {\n",
       "        text-align: right;\n",
       "    }\n",
       "</style>\n",
       "<table border=\"1\" class=\"dataframe\">\n",
       "  <thead>\n",
       "    <tr style=\"text-align: right;\">\n",
       "      <th></th>\n",
       "      <th>Pais</th>\n",
       "      <th>Continente</th>\n",
       "      <th>Poblacion_millones</th>\n",
       "      <th>PBI_per_capita</th>\n",
       "      <th>Esperanza_de_vida</th>\n",
       "      <th>Indice_Gini</th>\n",
       "      <th>Tasa_Alfabetizacion</th>\n",
       "      <th>Crecimiento_Anual_PBI</th>\n",
       "      <th>PBI_Total_billones</th>\n",
       "      <th>Categoria_Desarrollo</th>\n",
       "    </tr>\n",
       "  </thead>\n",
       "  <tbody>\n",
       "    <tr>\n",
       "      <th>0</th>\n",
       "      <td>Perú</td>\n",
       "      <td>Sudamérica</td>\n",
       "      <td>33.0</td>\n",
       "      <td>7020</td>\n",
       "      <td>76.5</td>\n",
       "      <td>41.5</td>\n",
       "      <td>94.4</td>\n",
       "      <td>1.1</td>\n",
       "      <td>231.6600</td>\n",
       "      <td>Medio</td>\n",
       "    </tr>\n",
       "    <tr>\n",
       "      <th>1</th>\n",
       "      <td>Argentina</td>\n",
       "      <td>Sudamérica</td>\n",
       "      <td>45.2</td>\n",
       "      <td>9912</td>\n",
       "      <td>76.7</td>\n",
       "      <td>42.9</td>\n",
       "      <td>99.0</td>\n",
       "      <td>-2.0</td>\n",
       "      <td>448.0224</td>\n",
       "      <td>Medio-Alto</td>\n",
       "    </tr>\n",
       "    <tr>\n",
       "      <th>2</th>\n",
       "      <td>Chile</td>\n",
       "      <td>Sudamérica</td>\n",
       "      <td>19.5</td>\n",
       "      <td>15000</td>\n",
       "      <td>80.5</td>\n",
       "      <td>44.4</td>\n",
       "      <td>99.4</td>\n",
       "      <td>2.5</td>\n",
       "      <td>292.5000</td>\n",
       "      <td>Medio-Alto</td>\n",
       "    </tr>\n",
       "    <tr>\n",
       "      <th>6</th>\n",
       "      <td>Uruguay</td>\n",
       "      <td>Sudamérica</td>\n",
       "      <td>3.5</td>\n",
       "      <td>16190</td>\n",
       "      <td>77.9</td>\n",
       "      <td>39.7</td>\n",
       "      <td>98.4</td>\n",
       "      <td>2.0</td>\n",
       "      <td>56.6650</td>\n",
       "      <td>Medio-Alto</td>\n",
       "    </tr>\n",
       "  </tbody>\n",
       "</table>\n",
       "</div>"
      ],
      "text/plain": [
       "        Pais  Continente  Poblacion_millones  PBI_per_capita  \\\n",
       "0       Perú  Sudamérica                33.0            7020   \n",
       "1  Argentina  Sudamérica                45.2            9912   \n",
       "2      Chile  Sudamérica                19.5           15000   \n",
       "6    Uruguay  Sudamérica                 3.5           16190   \n",
       "\n",
       "   Esperanza_de_vida  Indice_Gini  Tasa_Alfabetizacion  Crecimiento_Anual_PBI  \\\n",
       "0               76.5         41.5                 94.4                    1.1   \n",
       "1               76.7         42.9                 99.0                   -2.0   \n",
       "2               80.5         44.4                 99.4                    2.5   \n",
       "6               77.9         39.7                 98.4                    2.0   \n",
       "\n",
       "   PBI_Total_billones Categoria_Desarrollo  \n",
       "0            231.6600                Medio  \n",
       "1            448.0224           Medio-Alto  \n",
       "2            292.5000           Medio-Alto  \n",
       "6             56.6650           Medio-Alto  "
      ]
     },
     "execution_count": 9,
     "metadata": {},
     "output_type": "execute_result"
    }
   ],
   "source": [
    "filtro = (df_desarrollo['Continente'] == 'Sudamérica') & (df_desarrollo['Indice_Gini'] < 45)\n",
    "df_sudamerica_gini_bajo = df_desarrollo[filtro]\n",
    "df_sudamerica_gini_bajo"
   ]
  },
  {
   "cell_type": "code",
   "execution_count": 10,
   "id": "KcaeffT-bJuG",
   "metadata": {
    "id": "KcaeffT-bJuG"
   },
   "outputs": [
    {
     "data": {
      "text/html": [
       "<div>\n",
       "<style scoped>\n",
       "    .dataframe tbody tr th:only-of-type {\n",
       "        vertical-align: middle;\n",
       "    }\n",
       "\n",
       "    .dataframe tbody tr th {\n",
       "        vertical-align: top;\n",
       "    }\n",
       "\n",
       "    .dataframe thead th {\n",
       "        text-align: right;\n",
       "    }\n",
       "</style>\n",
       "<table border=\"1\" class=\"dataframe\">\n",
       "  <thead>\n",
       "    <tr style=\"text-align: right;\">\n",
       "      <th></th>\n",
       "      <th>Pais</th>\n",
       "      <th>Continente</th>\n",
       "      <th>Poblacion_millones</th>\n",
       "      <th>PBI_per_capita</th>\n",
       "      <th>Esperanza_de_vida</th>\n",
       "      <th>Indice_Gini</th>\n",
       "      <th>Tasa_Alfabetizacion</th>\n",
       "      <th>Crecimiento_Anual_PBI</th>\n",
       "      <th>PBI_Total_billones</th>\n",
       "      <th>Categoria_Desarrollo</th>\n",
       "    </tr>\n",
       "  </thead>\n",
       "  <tbody>\n",
       "    <tr>\n",
       "      <th>6</th>\n",
       "      <td>Uruguay</td>\n",
       "      <td>Sudamérica</td>\n",
       "      <td>3.5</td>\n",
       "      <td>16190</td>\n",
       "      <td>77.9</td>\n",
       "      <td>39.7</td>\n",
       "      <td>98.4</td>\n",
       "      <td>2.0</td>\n",
       "      <td>56.6650</td>\n",
       "      <td>Medio-Alto</td>\n",
       "    </tr>\n",
       "    <tr>\n",
       "      <th>2</th>\n",
       "      <td>Chile</td>\n",
       "      <td>Sudamérica</td>\n",
       "      <td>19.5</td>\n",
       "      <td>15000</td>\n",
       "      <td>80.5</td>\n",
       "      <td>44.4</td>\n",
       "      <td>99.4</td>\n",
       "      <td>2.5</td>\n",
       "      <td>292.5000</td>\n",
       "      <td>Medio-Alto</td>\n",
       "    </tr>\n",
       "    <tr>\n",
       "      <th>1</th>\n",
       "      <td>Argentina</td>\n",
       "      <td>Sudamérica</td>\n",
       "      <td>45.2</td>\n",
       "      <td>9912</td>\n",
       "      <td>76.7</td>\n",
       "      <td>42.9</td>\n",
       "      <td>99.0</td>\n",
       "      <td>-2.0</td>\n",
       "      <td>448.0224</td>\n",
       "      <td>Medio-Alto</td>\n",
       "    </tr>\n",
       "    <tr>\n",
       "      <th>0</th>\n",
       "      <td>Perú</td>\n",
       "      <td>Sudamérica</td>\n",
       "      <td>33.0</td>\n",
       "      <td>7020</td>\n",
       "      <td>76.5</td>\n",
       "      <td>41.5</td>\n",
       "      <td>94.4</td>\n",
       "      <td>1.1</td>\n",
       "      <td>231.6600</td>\n",
       "      <td>Medio</td>\n",
       "    </tr>\n",
       "  </tbody>\n",
       "</table>\n",
       "</div>"
      ],
      "text/plain": [
       "        Pais  Continente  Poblacion_millones  PBI_per_capita  \\\n",
       "6    Uruguay  Sudamérica                 3.5           16190   \n",
       "2      Chile  Sudamérica                19.5           15000   \n",
       "1  Argentina  Sudamérica                45.2            9912   \n",
       "0       Perú  Sudamérica                33.0            7020   \n",
       "\n",
       "   Esperanza_de_vida  Indice_Gini  Tasa_Alfabetizacion  Crecimiento_Anual_PBI  \\\n",
       "6               77.9         39.7                 98.4                    2.0   \n",
       "2               80.5         44.4                 99.4                    2.5   \n",
       "1               76.7         42.9                 99.0                   -2.0   \n",
       "0               76.5         41.5                 94.4                    1.1   \n",
       "\n",
       "   PBI_Total_billones Categoria_Desarrollo  \n",
       "6             56.6650           Medio-Alto  \n",
       "2            292.5000           Medio-Alto  \n",
       "1            448.0224           Medio-Alto  \n",
       "0            231.6600                Medio  "
      ]
     },
     "execution_count": 10,
     "metadata": {},
     "output_type": "execute_result"
    }
   ],
   "source": [
    "df_sudamerica_gini_bajo_ordenado = df_sudamerica_gini_bajo.sort_values(by='PBI_per_capita', ascending=False)\n",
    "df_sudamerica_gini_bajo_ordenado"
   ]
  },
  {
   "cell_type": "markdown",
   "id": "5GGM9kLgbJuH",
   "metadata": {
    "id": "5GGM9kLgbJuH"
   },
   "source": [
    "**9.** Utilizando `groupby()`, calcula para cada `Continente`:\n",
    "- La **media** de `Esperanza_de_vida`.\n",
    "- El **máximo** de `Indice_Gini`.\n",
    "- El **conteo** de países."
   ]
  },
  {
   "cell_type": "code",
   "execution_count": 11,
   "id": "SnoAgW2LbJuH",
   "metadata": {
    "id": "SnoAgW2LbJuH"
   },
   "outputs": [
    {
     "name": "stdout",
     "output_type": "stream",
     "text": [
      "              Esperanza_de_vida  Indice_Gini  Cantidad_Paises\n",
      "Continente                                                   \n",
      "Asia                  84.600000         32.9                1\n",
      "Europa                83.600000         34.7                1\n",
      "Norteamérica          78.650000         45.4                2\n",
      "Sudamérica            77.466667         53.9                6\n"
     ]
    }
   ],
   "source": [
    "resumen_continente = df_desarrollo.groupby('Continente').agg({\n",
    "    'Esperanza_de_vida': 'mean',\n",
    "    'Indice_Gini': 'max',\n",
    "    'Pais': 'count'\n",
    "}).rename(columns={'Pais': 'Cantidad_Paises'})\n",
    "\n",
    "print(resumen_continente)"
   ]
  },
  {
   "cell_type": "markdown",
   "id": "NJNCKZYxbJuH",
   "metadata": {
    "id": "NJNCKZYxbJuH"
   },
   "source": [
    "## Sección 3: Visualización de Datos"
   ]
  },
  {
   "cell_type": "markdown",
   "id": "oqRrTvFVbJuH",
   "metadata": {
    "id": "oqRrTvFVbJuH"
   },
   "source": [
    "**10.** Crea un gráfico de barras horizontales (`barh`) que muestre el `Indice_Gini` de cada país. Ordena los países de menor a mayor desigualdad (Gini) para una mejor visualización. Asegúrate de que el gráfico tenga un título y etiquetas adecuadas."
   ]
  },
  {
   "cell_type": "code",
   "execution_count": 12,
   "id": "UoyxHvhjbJuH",
   "metadata": {
    "id": "UoyxHvhjbJuH"
   },
   "outputs": [
    {
     "data": {
      "image/png": "[encoded data removed]",
      "text/plain": [
       "<Figure size 1000x600 with 1 Axes>"
      ]
     },
     "metadata": {},
     "output_type": "display_data"
    }
   ],
   "source": [
    "import matplotlib.pyplot as plt\n",
    "df_ordenado = df_desarrollo.sort_values(by='Indice_Gini')\n",
    "\n",
    "plt.figure(figsize=(10,6))\n",
    "plt.barh(df_ordenado['Pais'], df_ordenado['Indice_Gini'], color='skyblue')\n",
    "plt.xlabel('Índice Gini')\n",
    "plt.title('Índice de Desigualdad (Gini) por País')\n",
    "plt.grid(axis='x', linestyle='--', alpha=0.7)\n",
    "plt.show()\n"
   ]
  },
  {
   "cell_type": "markdown",
   "id": "Ycs_GpmrbJuH",
   "metadata": {
    "id": "Ycs_GpmrbJuH"
   },
   "source": [
    "**11.1.** Genera un gráfico de dispersión (scatter plot) para explorar la relación entre el `PBI_per_capita` (eje X) y la `Esperanza_de_vida` (eje Y).\n",
    "\n",
    "**11.2.** Modifica el gráfico anterior para que el color de cada punto represente su `Continente`. (Pista: puedes crear un diccionario que mapee continentes a colores, por ejemplo: `{'Sudamérica': 'blue', ...}`).\n",
    "\n",
    "**11.3.** **Interpretación:** ¿Qué te dice este gráfico sobre la relación entre PBI y esperanza de vida? ¿Observas alguna agrupación por continentes?"
   ]
  },
  {
   "cell_type": "code",
   "execution_count": 13,
   "id": "f11881b5",
   "metadata": {},
   "outputs": [
    {
     "data": {
      "image/png": "[encoded data removed]",
      "text/plain": [
       "<Figure size 800x600 with 1 Axes>"
      ]
     },
     "metadata": {},
     "output_type": "display_data"
    }
   ],
   "source": [
    "import matplotlib.pyplot as plt\n",
    "\n",
    "plt.figure(figsize=(8,6))\n",
    "plt.scatter(df_desarrollo['PBI_per_capita'], df_desarrollo['Esperanza_de_vida'], color='teal', alpha=0.7)\n",
    "\n",
    "plt.xlabel('PBI per cápita')\n",
    "plt.ylabel('Esperanza de vida')\n",
    "plt.title('Relación entre PBI per cápita y Esperanza de vida')\n",
    "\n",
    "# Etiquetas de los países\n",
    "for i, pais in enumerate(df_desarrollo['Pais']):\n",
    "    plt.text(df_desarrollo['PBI_per_capita'][i]+200, \n",
    "             df_desarrollo['Esperanza_de_vida'][i], \n",
    "             pais, fontsize=8)\n",
    "\n",
    "plt.grid(True, linestyle='--', alpha=0.5)\n",
    "plt.show()"
   ]
  },
  {
   "cell_type": "code",
   "execution_count": 14,
   "id": "6c5753bf",
   "metadata": {},
   "outputs": [
    {
     "data": {
      "image/png": "[encoded data removed]",
      "text/plain": [
       "<Figure size 800x600 with 1 Axes>"
      ]
     },
     "metadata": {},
     "output_type": "display_data"
    }
   ],
   "source": [
    "import matplotlib.pyplot as plt\n",
    "\n",
    "colores_continente = {\n",
    "    'Sudamérica': 'blue',\n",
    "    'Norteamérica': 'green',\n",
    "    'Europa': 'orange',\n",
    "    'Asia': 'red'\n",
    "}\n",
    "\n",
    "plt.figure(figsize=(8,6))\n",
    "\n",
    "for i, row in df_desarrollo.iterrows():\n",
    "    plt.scatter(row['PBI_per_capita'], row['Esperanza_de_vida'],\n",
    "                color=colores_continente[row['Continente']], \n",
    "                alpha=0.7, label=row['Continente'] if row['Continente'] not in plt.gca().get_legend_handles_labels()[1] else \"\")\n",
    "\n",
    "for i, row in df_desarrollo.iterrows():\n",
    "    plt.text(row['PBI_per_capita'] + 200, row['Esperanza_de_vida'], row['Pais'], fontsize=8)\n",
    "\n",
    "plt.xlabel('PBI per cápita')\n",
    "plt.ylabel('Esperanza de vida')\n",
    "plt.title('Relación entre PBI per cápita y Esperanza de vida por continente')\n",
    "plt.grid(True, linestyle='--', alpha=0.5)\n",
    "plt.legend(title='Continente')\n",
    "plt.show()"
   ]
  },
  {
   "cell_type": "markdown",
   "id": "zyvV_QzDbJuH",
   "metadata": {
    "id": "zyvV_QzDbJuH"
   },
   "source": [
    "A medida que que el PBI per capita aumenta, la esperanza de vida es directamente proporcional a este "
   ]
  },
  {
   "cell_type": "markdown",
   "id": "Wi51SLJWbJuH",
   "metadata": {
    "id": "Wi51SLJWbJuH"
   },
   "source": [
    "**12.** Crea un histograma de la `Tasa_Alfabetizacion`. Añade una línea vertical roja que represente la media de esta tasa."
   ]
  },
  {
   "cell_type": "code",
   "execution_count": 15,
   "id": "kTHwpTlNbJuI",
   "metadata": {
    "id": "kTHwpTlNbJuI"
   },
   "outputs": [
    {
     "data": {
      "image/png": "[encoded data removed]",
      "text/plain": [
       "<Figure size 800x600 with 1 Axes>"
      ]
     },
     "metadata": {},
     "output_type": "display_data"
    }
   ],
   "source": [
    "import matplotlib.pyplot as plt\n",
    "plt.figure(figsize=(8,6))\n",
    "plt.hist(df_desarrollo[\"Tasa_Alfabetizacion\"], bins=10, color='skyblue', edgecolor='black')\n",
    "\n",
    "media_alfabetizacion = df_desarrollo[\"Tasa_Alfabetizacion\"].mean()\n",
    "plt.axvline(media_alfabetizacion, color='red', linestyle='--', linewidth=2, label=f\"Media: {media_alfabetizacion:.2f}\")\n",
    "\n",
    "plt.title(\"Histograma de la Tasa de Alfabetización\", fontsize=14)\n",
    "plt.xlabel(\"Tasa de Alfabetización (%)\", fontsize=12)\n",
    "plt.ylabel(\"Frecuencia\", fontsize=12)\n",
    "plt.legend()\n",
    "\n",
    "plt.show()"
   ]
  },
  {
   "cell_type": "markdown",
   "id": "5Rlsc-hNbJuI",
   "metadata": {
    "id": "5Rlsc-hNbJuI"
   },
   "source": [
    "## Sección 4: Estadística y Síntesis"
   ]
  },
  {
   "cell_type": "markdown",
   "id": "4Pd-42lrbJuI",
   "metadata": {
    "id": "4Pd-42lrbJuI"
   },
   "source": [
    "**13.** Muestra un resumen estadístico completo de las columnas numéricas del DataFrame."
   ]
  },
  {
   "cell_type": "code",
   "execution_count": null,
   "id": "d97cea29",
   "metadata": {},
   "outputs": [],
   "source": []
  },
  {
   "cell_type": "code",
   "execution_count": null,
   "id": "Q3OHpdjgbJuI",
   "metadata": {
    "id": "Q3OHpdjgbJuI"
   },
   "outputs": [],
   "source": []
  },
  {
   "cell_type": "markdown",
   "id": "2JNprB4JbJuI",
   "metadata": {
    "id": "2JNprB4JbJuI"
   },
   "source": [
    "**14.1.** Calcula la matriz de correlación para las columnas numéricas del DataFrame.\n",
    "\n",
    "**14.2.** **Interpretación:** Identifica el par de variables con la correlación positiva más fuerte y el par con la correlación negativa más fuerte (excluyendo la correlación de una variable consigo misma). ¿Tienen sentido estos resultados en el mundo real?"
   ]
  },
  {
   "cell_type": "code",
   "execution_count": null,
   "id": "VWZFMyjwbJuI",
   "metadata": {
    "id": "VWZFMyjwbJuI"
   },
   "outputs": [],
   "source": []
  },
  {
   "cell_type": "markdown",
   "id": "J4p1wHTmbJuR",
   "metadata": {
    "id": "J4p1wHTmbJuR"
   },
   "source": [
    "*Escribe tu interpretación aquí...*"
   ]
  },
  {
   "cell_type": "markdown",
   "id": "djfvVHMnbJuR",
   "metadata": {
    "id": "djfvVHMnbJuR"
   },
   "source": [
    "**15.** Basado en los datos, calcula la probabilidad de que un país seleccionado al azar sea de 'Sudamérica' Y tenga una `Categoria_Desarrollo` de 'Medio-Alto'."
   ]
  },
  {
   "cell_type": "code",
   "execution_count": null,
   "id": "Lhog8Pi4bJuR",
   "metadata": {
    "id": "Lhog8Pi4bJuR"
   },
   "outputs": [],
   "source": []
  }
 ],
 "metadata": {
  "colab": {
   "provenance": []
  },
  "kernelspec": {
   "display_name": ".venv",
   "language": "python",
   "name": "python3"
  },
  "language_info": {
   "codemirror_mode": {
    "name": "ipython",
    "version": 3
   },
   "file_extension": ".py",
   "mimetype": "text/x-python",
   "name": "python",
   "nbconvert_exporter": "python",
   "pygments_lexer": "ipython3",
   "version": "3.12.10"
  }
 },
 "nbformat": 4,
 "nbformat_minor": 5
}
