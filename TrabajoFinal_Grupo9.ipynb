{
 "cells": [
  {
   "cell_type": "markdown",
   "id": "OQSezRkDbJt7",
   "metadata": {
    "id": "OQSezRkDbJt7"
   },
   "source": [
    "# Tarea Final del Curso\n",
    "**Introducción a la Ciencia de Datos con Python**"
   ]
  },
  {
   "cell_type": "markdown",
   "id": "XGKFK_A8bJt_",
   "metadata": {
    "id": "XGKFK_A8bJt_"
   },
   "source": [
    "Fecha de entrega: Domingo 10 de agosto, 2025, 11:59pm\n",
    "\n",
    "**Instrucciones Generales:**\n",
    "\n",
    "- Esta es la entrega final y debe realizarse de manera grupal.\n",
    "- Es importante consignar en el correo de entrega, tanto los nombres y codigo de los integrantes del grupo.\n",
    "- Se considera un punto adicional a aquellos grupos que realizen la entrega por GITHUB, para ello deben ponerlo dentro de la carpeta Entregas_1, y nombre de archivo debe tener el formato: TrabajoFinal_GrupoX.ipynb\n",
    "- Asegúrate de seguir las buenas prácticas para nombrar variables y comentar tu código.\n",
    "- Utiliza las librerías vistas en clase: `numpy`, `pandas` y `matplotlib.pyplot`.\n",
    "- Responde a las preguntas teóricas o de interpretación en las celdas de Markdown designadas."
   ]
  },
  {
   "cell_type": "markdown",
   "id": "-knDLkMsbJuA",
   "metadata": {
    "id": "-knDLkMsbJuA"
   },
   "source": [
    "## Sección 1: NumPy - Manipulación Avanzada de Arrays"
   ]
  },
  {
   "cell_type": "markdown",
   "id": "y5tLDLYlbJuA",
   "metadata": {
    "id": "y5tLDLYlbJuA"
   },
   "source": [
    "**1.1.** Crea un array de NumPy llamado `vector_base` que contenga una secuencia de números desde 10 hasta 115 (inclusive), con un paso de 3 entre cada número."
   ]
  },
  {
   "cell_type": "code",
   "execution_count": 12,
   "id": "wvj9SXYtbr3v",
   "metadata": {
    "id": "wvj9SXYtbr3v"
   },
   "outputs": [
    {
     "name": "stdout",
     "output_type": "stream",
     "text": [
      "Defaulting to user installation because normal site-packages is not writeable\n",
      "Requirement already satisfied: numpy in c:\\users\\alere\\appdata\\local\\packages\\pythonsoftwarefoundation.python.3.12_qbz5n2kfra8p0\\localcache\\local-packages\\python312\\site-packages (2.3.2)\n",
      "Note: you may need to restart the kernel to use updated packages.\n",
      "vector_base: [ 10  13  16  19  22  25  28  31  34  37  40  43  46  49  52  55  58  61\n",
      "  64  67  70  73  76  79  82  85  88  91  94  97 100 103 106 109 112 115] \n",
      "Tamaño: 36\n"
     ]
    },
    {
     "name": "stderr",
     "output_type": "stream",
     "text": [
      "\n",
      "[notice] A new release of pip is available: 25.0.1 -> 25.2\n",
      "[notice] To update, run: C:\\Users\\alere\\AppData\\Local\\Microsoft\\WindowsApps\\PythonSoftwareFoundation.Python.3.12_qbz5n2kfra8p0\\python.exe -m pip install --upgrade pip\n"
     ]
    }
   ],
   "source": [
    "%pip install numpy\n",
    "# Importación de la librería NumPy para manejo eficiente de arreglos numéricos\n",
    "import numpy as np\n",
    "# 1.1 Creación del vector base\n",
    "# Se utiliza np.arange para generar una secuencia numérica desde 10 hasta 115\n",
    "# con paso de 3 unidades. El límite superior es inclusivo ya que se especifica 116.\n",
    "# Esto produce un array unidimensional de enteros equiespaciados.\n",
    "vector_base = np.arange(10, 116, 3)\n",
    "print(\"vector_base:\", vector_base, \"\\nTamaño:\", vector_base.size)"
   ]
  },
  {
   "cell_type": "markdown",
   "id": "983F8uePbJuB",
   "metadata": {
    "id": "983F8uePbJuB"
   },
   "source": [
    "**1.2.** A partir del `vector_base` anterior, crea una matriz de 5x7 llamada `matriz_A`."
   ]
  },
  {
   "cell_type": "code",
   "execution_count": 13,
   "id": "dmOA_SNgbJuC",
   "metadata": {
    "id": "dmOA_SNgbJuC"
   },
   "outputs": [
    {
     "name": "stdout",
     "output_type": "stream",
     "text": [
      "\n",
      "matriz_A (5x7):\n",
      " [[ 10  13  16  19  22  25  28]\n",
      " [ 31  34  37  40  43  46  49]\n",
      " [ 52  55  58  61  64  67  70]\n",
      " [ 73  76  79  82  85  88  91]\n",
      " [ 94  97 100 103 106 109 112]]\n"
     ]
    }
   ],
   "source": [
    "# 1.2 Construcción de la matriz_A\n",
    "# El reshape se aplica a los primeros 35 elementos del vector_base\n",
    "# debido a que una matriz de 5x7 requiere exactamente 35 elementos.\n",
    "# Se asegura la dimensionalidad solicitada para operaciones posteriores.\n",
    "matriz_A = vector_base[:35].reshape(5, 7)\n",
    "print(\"\\nmatriz_A (5x7):\\n\", matriz_A)"
   ]
  },
  {
   "cell_type": "markdown",
   "id": "QoWq-H84bJuC",
   "metadata": {
    "id": "QoWq-H84bJuC"
   },
   "source": [
    "**2.1.** Crea una segunda matriz de 5x7 llamada `matriz_B` que contenga números enteros aleatorios entre 1 y 10.\n",
    "\n",
    "**2.2.** Realiza una multiplicación elemento por elemento (element-wise) entre `matriz_A` y `matriz_B` y almacena el resultado en `matriz_C`."
   ]
  },
  {
   "cell_type": "code",
   "execution_count": 14,
   "id": "DDZDd-cfbJuD",
   "metadata": {
    "id": "DDZDd-cfbJuD"
   },
   "outputs": [
    {
     "name": "stdout",
     "output_type": "stream",
     "text": [
      "\n",
      "matriz_B (5x7):\n",
      " [[ 1  8  7  5  5  9  1]\n",
      " [ 7  3  1  6 10  8  8]\n",
      " [ 8  8  6  2  9  5  6]\n",
      " [ 4  2 10  8  7  5  9]\n",
      " [ 6  5  5  3  1  6  9]]\n",
      "\n",
      "matriz_C = matriz_A * matriz_B:\n",
      " [[  10  104  112   95  110  225   28]\n",
      " [ 217  102   37  240  430  368  392]\n",
      " [ 416  440  348  122  576  335  420]\n",
      " [ 292  152  790  656  595  440  819]\n",
      " [ 564  485  500  309  106  654 1008]]\n"
     ]
    }
   ],
   "source": [
    "# 2.1 Se utiliza un generador aleatorio con semilla fija (42) para garantizar\n",
    "# reproducibilidad de resultados. La matriz contiene enteros aleatorios\n",
    "# en el rango [1, 10], con las mismas dimensiones que matriz_A (5x7).\n",
    "rng = np.random.default_rng(42)  # semilla para reproducibilidad\n",
    "matriz_B = rng.integers(1, 11, size=(5, 7))\n",
    "print(\"\\nmatriz_B (5x7):\\n\", matriz_B)\n",
    "\n",
    "# 2.2 La operación '*' entre arrays de igual dimensión en NumPy realiza\n",
    "# un producto elemento por elemento (Hadamard product).\n",
    "# El resultado se almacena en matriz_C, preservando dimensiones (5x7).\n",
    "matriz_C = matriz_A * matriz_B\n",
    "print(\"\\nmatriz_C = matriz_A * matriz_B:\\n\", matriz_C)"
   ]
  },
  {
   "cell_type": "markdown",
   "id": "HhrCyWatbJuD",
   "metadata": {
    "id": "HhrCyWatbJuD"
   },
   "source": [
    "**3.1.** Utilizando slicing, selecciona una submatriz de 2x2 de la esquina inferior derecha de `matriz_C`.\n",
    "\n",
    "**3.2.** Calcula el promedio de esta submatriz."
   ]
  },
  {
   "cell_type": "code",
   "execution_count": 17,
   "id": "dIlRtUE3bJuD",
   "metadata": {
    "id": "dIlRtUE3bJuD"
   },
   "outputs": [
    {
     "name": "stdout",
     "output_type": "stream",
     "text": [
      "\n",
      "Submatriz 2x2 (esquina inferior derecha):\n",
      " [[ 440  819]\n",
      " [ 654 1008]]\n",
      "\n",
      "Promedio de la submatriz 2x2: 730.25\n"
     ]
    }
   ],
   "source": [
    "# 3.1 Se utiliza slicing negativo para seleccionar las dos últimas filas\n",
    "# y las dos últimas columnas de matriz_C, obteniendo la esquina inferior derecha.\n",
    "submatriz = matriz_C[-2:, -2:]\n",
    "print(\"\\nSubmatriz 2x2 (esquina inferior derecha):\\n\", submatriz)\n",
    "\n",
    "# 3.2 Cálculo del promedio de la submatriz\n",
    "# Se aplica el método .mean() de NumPy para obtener la media aritmética\n",
    "# de todos los elementos de la submatriz extraída.\n",
    "promedio_submatriz = submatriz.mean()\n",
    "print(\"\\nPromedio de la submatriz 2x2:\", promedio_submatriz)"
   ]
  },
  {
   "cell_type": "markdown",
   "id": "gO0WijUnbJuE",
   "metadata": {
    "id": "gO0WijUnbJuE"
   },
   "source": [
    "## Sección 2: Pandas - Análisis Exploratorio de Datos"
   ]
  },
  {
   "cell_type": "markdown",
   "id": "SBXhc1V8bJuE",
   "metadata": {
    "id": "SBXhc1V8bJuE"
   },
   "source": [
    "Para esta sección, trabajaremos con un conjunto de datos ficticio sobre el desarrollo humano. **Ejecuta la siguiente celda para crear el DataFrame.**"
   ]
  },
  {
   "cell_type": "code",
   "execution_count": 16,
   "id": "iVR3JluqbJuE",
   "metadata": {
    "id": "iVR3JluqbJuE"
   },
   "outputs": [
    {
     "ename": "ModuleNotFoundError",
     "evalue": "No module named 'pandas'",
     "output_type": "error",
     "traceback": [
      "\u001b[31m---------------------------------------------------------------------------\u001b[39m",
      "\u001b[31mModuleNotFoundError\u001b[39m                       Traceback (most recent call last)",
      "\u001b[36mCell\u001b[39m\u001b[36m \u001b[39m\u001b[32mIn[16]\u001b[39m\u001b[32m, line 1\u001b[39m\n\u001b[32m----> \u001b[39m\u001b[32m1\u001b[39m \u001b[38;5;28;01mimport\u001b[39;00m\u001b[38;5;250m \u001b[39m\u001b[34;01mpandas\u001b[39;00m\u001b[38;5;250m \u001b[39m\u001b[38;5;28;01mas\u001b[39;00m\u001b[38;5;250m \u001b[39m\u001b[34;01mpd\u001b[39;00m\n\u001b[32m      2\u001b[39m \u001b[38;5;28;01mimport\u001b[39;00m\u001b[38;5;250m \u001b[39m\u001b[34;01mnumpy\u001b[39;00m\u001b[38;5;250m \u001b[39m\u001b[38;5;28;01mas\u001b[39;00m\u001b[38;5;250m \u001b[39m\u001b[34;01mnp\u001b[39;00m\n\u001b[32m      4\u001b[39m data = {\n\u001b[32m      5\u001b[39m     \u001b[33m'\u001b[39m\u001b[33mPais\u001b[39m\u001b[33m'\u001b[39m: [\u001b[33m'\u001b[39m\u001b[33mPerú\u001b[39m\u001b[33m'\u001b[39m, \u001b[33m'\u001b[39m\u001b[33mArgentina\u001b[39m\u001b[33m'\u001b[39m, \u001b[33m'\u001b[39m\u001b[33mChile\u001b[39m\u001b[33m'\u001b[39m, \u001b[33m'\u001b[39m\u001b[33mColombia\u001b[39m\u001b[33m'\u001b[39m, \u001b[33m'\u001b[39m\u001b[33mBrasil\u001b[39m\u001b[33m'\u001b[39m, \u001b[33m'\u001b[39m\u001b[33mMéxico\u001b[39m\u001b[33m'\u001b[39m, \u001b[33m'\u001b[39m\u001b[33mUruguay\u001b[39m\u001b[33m'\u001b[39m, \u001b[33m'\u001b[39m\u001b[33mEspaña\u001b[39m\u001b[33m'\u001b[39m, \u001b[33m'\u001b[39m\u001b[33mCanadá\u001b[39m\u001b[33m'\u001b[39m, \u001b[33m'\u001b[39m\u001b[33mJapón\u001b[39m\u001b[33m'\u001b[39m],\n\u001b[32m      6\u001b[39m     \u001b[33m'\u001b[39m\u001b[33mContinente\u001b[39m\u001b[33m'\u001b[39m: [\u001b[33m'\u001b[39m\u001b[33mSudamérica\u001b[39m\u001b[33m'\u001b[39m, \u001b[33m'\u001b[39m\u001b[33mSudamérica\u001b[39m\u001b[33m'\u001b[39m, \u001b[33m'\u001b[39m\u001b[33mSudamérica\u001b[39m\u001b[33m'\u001b[39m, \u001b[33m'\u001b[39m\u001b[33mSudamérica\u001b[39m\u001b[33m'\u001b[39m, \u001b[33m'\u001b[39m\u001b[33mSudamérica\u001b[39m\u001b[33m'\u001b[39m, \u001b[33m'\u001b[39m\u001b[33mNorteamérica\u001b[39m\u001b[33m'\u001b[39m, \u001b[33m'\u001b[39m\u001b[33mSudamérica\u001b[39m\u001b[33m'\u001b[39m, \u001b[33m'\u001b[39m\u001b[33mEuropa\u001b[39m\u001b[33m'\u001b[39m, \u001b[33m'\u001b[39m\u001b[33mNorteamérica\u001b[39m\u001b[33m'\u001b[39m, \u001b[33m'\u001b[39m\u001b[33mAsia\u001b[39m\u001b[33m'\u001b[39m],\n\u001b[32m   (...)\u001b[39m\u001b[32m     12\u001b[39m     \u001b[33m'\u001b[39m\u001b[33mCrecimiento_Anual_PBI\u001b[39m\u001b[33m'\u001b[39m: [\u001b[32m1.1\u001b[39m, -\u001b[32m2.0\u001b[39m, \u001b[32m2.5\u001b[39m, \u001b[32m3.0\u001b[39m, \u001b[32m1.4\u001b[39m, \u001b[32m2.1\u001b[39m, \u001b[32m2.0\u001b[39m, \u001b[32m2.5\u001b[39m, \u001b[32m1.9\u001b[39m, \u001b[32m0.8\u001b[39m]\n\u001b[32m     13\u001b[39m }\n",
      "\u001b[31mModuleNotFoundError\u001b[39m: No module named 'pandas'"
     ]
    }
   ],
   "source": [
    "import pandas as pd\n",
    "import numpy as np\n",
    "\n",
    "data = {\n",
    "    'Pais': ['Perú', 'Argentina', 'Chile', 'Colombia', 'Brasil', 'México', 'Uruguay', 'España', 'Canadá', 'Japón'],\n",
    "    'Continente': ['Sudamérica', 'Sudamérica', 'Sudamérica', 'Sudamérica', 'Sudamérica', 'Norteamérica', 'Sudamérica', 'Europa', 'Norteamérica', 'Asia'],\n",
    "    'Poblacion_millones': [33.0, 45.2, 19.5, 51.0, 212.6, 128.9, 3.5, 47.4, 38.0, 125.8],\n",
    "    'PBI_per_capita': [7020, 9912, 15000, 6500, 8717, 9863, 16190, 29600, 46194, 40700],\n",
    "    'Esperanza_de_vida': [76.5, 76.7, 80.5, 77.3, 75.9, 75.0, 77.9, 83.6, 82.3, 84.6],\n",
    "    'Indice_Gini': [41.5, 42.9, 44.4, 51.3, 53.9, 45.4, 39.7, 34.7, 33.3, 32.9],\n",
    "    'Tasa_Alfabetizacion': [94.4, 99.0, 99.4, 95.1, 93.2, 95.4, np.nan, 98.4, 99.0, 99.0],\n",
    "    'Crecimiento_Anual_PBI': [1.1, -2.0, 2.5, 3.0, 1.4, 2.1, 2.0, 2.5, 1.9, 0.8]\n",
    "}\n",
    "\n",
    "df_desarrollo = pd.DataFrame(data)"
   ]
  },
  {
   "cell_type": "markdown",
   "id": "CFYuSgcfbJuF",
   "metadata": {
    "id": "CFYuSgcfbJuF"
   },
   "source": [
    "**4.1.** Muestra las primeras 5 filas del DataFrame `df_desarrollo`.\n",
    "\n",
    "**4.2.** Muestra un resumen general del DataFrame utilizando `.info()`."
   ]
  },
  {
   "cell_type": "code",
   "execution_count": null,
   "id": "fiJXvGwgbJuF",
   "metadata": {
    "id": "fiJXvGwgbJuF"
   },
   "outputs": [],
   "source": []
  },
  {
   "cell_type": "markdown",
   "id": "mlZeIBfFbJuG",
   "metadata": {
    "id": "mlZeIBfFbJuG"
   },
   "source": [
    "**5.** Hemos notado que hay un valor faltante (`NaN`) en la columna `Tasa_Alfabetizacion`. Imputa este valor faltante utilizando la **mediana** de esa misma columna."
   ]
  },
  {
   "cell_type": "code",
   "execution_count": null,
   "id": "JPWPLHX8bJuG",
   "metadata": {
    "id": "JPWPLHX8bJuG"
   },
   "outputs": [],
   "source": []
  },
  {
   "cell_type": "markdown",
   "id": "qo0004XubJuG",
   "metadata": {
    "id": "qo0004XubJuG"
   },
   "source": [
    "**6.1.** Crea una nueva columna llamada `PBI_Total_billones` que sea el resultado de multiplicar `PBI_per_capita` por `Poblacion_millones` y dividirlo entre 1000.\n",
    "\n",
    "**6.2.** Muestra el DataFrame con la nueva columna."
   ]
  },
  {
   "cell_type": "code",
   "execution_count": null,
   "id": "ZVX-OPAybJuG",
   "metadata": {
    "id": "ZVX-OPAybJuG"
   },
   "outputs": [],
   "source": []
  },
  {
   "cell_type": "markdown",
   "id": "t8u-hYwUbJuG",
   "metadata": {
    "id": "t8u-hYwUbJuG"
   },
   "source": [
    "**7.** Crea una nueva columna condicional `Categoria_Desarrollo`. Clasifica a los países según las siguientes reglas:\n",
    "- 'Alto': Si `Esperanza_de_vida` > 80 Y `PBI_per_capita` > 25000.\n",
    "- 'Medio-Alto': Si `Esperanza_de_vida` > 76 Y `PBI_per_capita` > 8000.\n",
    "- 'Medio': Para todos los demás casos."
   ]
  },
  {
   "cell_type": "code",
   "execution_count": null,
   "id": "VXJB6DAubJuG",
   "metadata": {
    "id": "VXJB6DAubJuG"
   },
   "outputs": [],
   "source": []
  },
  {
   "cell_type": "markdown",
   "id": "2CjwamlPbJuG",
   "metadata": {
    "id": "2CjwamlPbJuG"
   },
   "source": [
    "**8.1.** Filtra el DataFrame para encontrar los países de 'Sudamérica' con un `Indice_Gini` menor a 45.\n",
    "\n",
    "**8.2.** Ordena el resultado del filtro anterior por `PBI_per_capita` de forma descendente."
   ]
  },
  {
   "cell_type": "code",
   "execution_count": null,
   "id": "KcaeffT-bJuG",
   "metadata": {
    "id": "KcaeffT-bJuG"
   },
   "outputs": [],
   "source": []
  },
  {
   "cell_type": "markdown",
   "id": "5GGM9kLgbJuH",
   "metadata": {
    "id": "5GGM9kLgbJuH"
   },
   "source": [
    "**9.** Utilizando `groupby()`, calcula para cada `Continente`:\n",
    "- La **media** de `Esperanza_de_vida`.\n",
    "- El **máximo** de `Indice_Gini`.\n",
    "- El **conteo** de países."
   ]
  },
  {
   "cell_type": "code",
   "execution_count": null,
   "id": "SnoAgW2LbJuH",
   "metadata": {
    "id": "SnoAgW2LbJuH"
   },
   "outputs": [],
   "source": []
  },
  {
   "cell_type": "markdown",
   "id": "NJNCKZYxbJuH",
   "metadata": {
    "id": "NJNCKZYxbJuH"
   },
   "source": [
    "## Sección 3: Visualización de Datos"
   ]
  },
  {
   "cell_type": "markdown",
   "id": "oqRrTvFVbJuH",
   "metadata": {
    "id": "oqRrTvFVbJuH"
   },
   "source": [
    "**10.** Crea un gráfico de barras horizontales (`barh`) que muestre el `Indice_Gini` de cada país. Ordena los países de menor a mayor desigualdad (Gini) para una mejor visualización. Asegúrate de que el gráfico tenga un título y etiquetas adecuadas."
   ]
  },
  {
   "cell_type": "code",
   "execution_count": null,
   "id": "UoyxHvhjbJuH",
   "metadata": {
    "id": "UoyxHvhjbJuH"
   },
   "outputs": [],
   "source": []
  },
  {
   "cell_type": "markdown",
   "id": "Ycs_GpmrbJuH",
   "metadata": {
    "id": "Ycs_GpmrbJuH"
   },
   "source": [
    "**11.1.** Genera un gráfico de dispersión (scatter plot) para explorar la relación entre el `PBI_per_capita` (eje X) y la `Esperanza_de_vida` (eje Y).\n",
    "\n",
    "**11.2.** Modifica el gráfico anterior para que el color de cada punto represente su `Continente`. (Pista: puedes crear un diccionario que mapee continentes a colores, por ejemplo: `{'Sudamérica': 'blue', ...}`).\n",
    "\n",
    "**11.3.** **Interpretación:** ¿Qué te dice este gráfico sobre la relación entre PBI y esperanza de vida? ¿Observas alguna agrupación por continentes?"
   ]
  },
  {
   "cell_type": "code",
   "execution_count": null,
   "id": "ykNgEk1xbJuH",
   "metadata": {
    "id": "ykNgEk1xbJuH"
   },
   "outputs": [],
   "source": []
  },
  {
   "cell_type": "markdown",
   "id": "zyvV_QzDbJuH",
   "metadata": {
    "id": "zyvV_QzDbJuH"
   },
   "source": [
    "*Escribe tu interpretación aquí...*"
   ]
  },
  {
   "cell_type": "markdown",
   "id": "Wi51SLJWbJuH",
   "metadata": {
    "id": "Wi51SLJWbJuH"
   },
   "source": [
    "**12.** Crea un histograma de la `Tasa_Alfabetizacion`. Añade una línea vertical roja que represente la media de esta tasa."
   ]
  },
  {
   "cell_type": "code",
   "execution_count": null,
   "id": "kTHwpTlNbJuI",
   "metadata": {
    "id": "kTHwpTlNbJuI"
   },
   "outputs": [],
   "source": []
  },
  {
   "cell_type": "markdown",
   "id": "5Rlsc-hNbJuI",
   "metadata": {
    "id": "5Rlsc-hNbJuI"
   },
   "source": [
    "## Sección 4: Estadística y Síntesis"
   ]
  },
  {
   "cell_type": "markdown",
   "id": "4Pd-42lrbJuI",
   "metadata": {
    "id": "4Pd-42lrbJuI"
   },
   "source": [
    "**13.** Muestra un resumen estadístico completo de las columnas numéricas del DataFrame."
   ]
  },
  {
   "cell_type": "code",
   "execution_count": null,
   "id": "Q3OHpdjgbJuI",
   "metadata": {
    "id": "Q3OHpdjgbJuI"
   },
   "outputs": [],
   "source": []
  },
  {
   "cell_type": "markdown",
   "id": "2JNprB4JbJuI",
   "metadata": {
    "id": "2JNprB4JbJuI"
   },
   "source": [
    "**14.1.** Calcula la matriz de correlación para las columnas numéricas del DataFrame.\n",
    "\n",
    "**14.2.** **Interpretación:** Identifica el par de variables con la correlación positiva más fuerte y el par con la correlación negativa más fuerte (excluyendo la correlación de una variable consigo misma). ¿Tienen sentido estos resultados en el mundo real?"
   ]
  },
  {
   "cell_type": "code",
   "execution_count": null,
   "id": "VWZFMyjwbJuI",
   "metadata": {
    "id": "VWZFMyjwbJuI"
   },
   "outputs": [],
   "source": []
  },
  {
   "cell_type": "markdown",
   "id": "J4p1wHTmbJuR",
   "metadata": {
    "id": "J4p1wHTmbJuR"
   },
   "source": [
    "*Escribe tu interpretación aquí...*"
   ]
  },
  {
   "cell_type": "markdown",
   "id": "djfvVHMnbJuR",
   "metadata": {
    "id": "djfvVHMnbJuR"
   },
   "source": [
    "**15.** Basado en los datos, calcula la probabilidad de que un país seleccionado al azar sea de 'Sudamérica' Y tenga una `Categoria_Desarrollo` de 'Medio-Alto'."
   ]
  },
  {
   "cell_type": "code",
   "execution_count": null,
   "id": "Lhog8Pi4bJuR",
   "metadata": {
    "id": "Lhog8Pi4bJuR"
   },
   "outputs": [],
   "source": []
  }
 ],
 "metadata": {
  "colab": {
   "provenance": []
  },
  "kernelspec": {
   "display_name": "Python 3",
   "language": "python",
   "name": "python3"
  },
  "language_info": {
   "codemirror_mode": {
    "name": "ipython",
    "version": 3
   },
   "file_extension": ".py",
   "mimetype": "text/x-python",
   "name": "python",
   "nbconvert_exporter": "python",
   "pygments_lexer": "ipython3",
   "version": "3.12.10"
  }
 },
 "nbformat": 4,
 "nbformat_minor": 5
}
